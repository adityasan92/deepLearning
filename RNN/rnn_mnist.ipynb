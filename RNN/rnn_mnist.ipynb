{
 "cells": [
  {
   "cell_type": "code",
   "execution_count": 1,
   "metadata": {
    "collapsed": false
   },
   "outputs": [
    {
     "name": "stdout",
     "output_type": "stream",
     "text": [
      "Extracting /tmp/data/train-images-idx3-ubyte.gz\n",
      "Extracting /tmp/data/train-labels-idx1-ubyte.gz\n",
      "Extracting /tmp/data/t10k-images-idx3-ubyte.gz\n",
      "Extracting /tmp/data/t10k-labels-idx1-ubyte.gz\n"
     ]
    }
   ],
   "source": [
    "import os\n",
    "import numpy as np\n",
    "import tensorflow as tf\n",
    "import matplotlib.pyplot as plt\n",
    "import PIL\n",
    "from tensorflow.python.ops import rnn, rnn_cell\n",
    "from tensorflow.examples.tutorials.mnist import input_data\n",
    "from PIL import Image\n",
    "from tensorflow.examples.tutorials.mnist import input_data\n",
    "\n",
    "%matplotlib inline  \n",
    "\n",
    "# Import MINST data\n",
    "mnist = input_data.read_data_sets(\"/tmp/data/\", one_hot=True)"
   ]
  },
  {
   "cell_type": "code",
   "execution_count": 2,
   "metadata": {
    "collapsed": false
   },
   "outputs": [
    {
     "name": "stdout",
     "output_type": "stream",
     "text": [
      "(128, 784)\n",
      "(128, 28, 28)\n"
     ]
    }
   ],
   "source": [
    "batch_size = 128\n",
    "n_steps = 28\n",
    "diminput = 28\n",
    "batch_xs, batch_ys = mnist.train.next_batch(batch_size)\n",
    "print batch_xs.shape\n",
    "batch_xs = batch_xs.reshape(batch_size, n_steps, diminput)\n",
    "print batch_xs.shape"
   ]
  },
  {
   "cell_type": "code",
   "execution_count": 3,
   "metadata": {
    "collapsed": false
   },
   "outputs": [
    {
     "name": "stdout",
     "output_type": "stream",
     "text": [
      "(28, 128, 28)\n",
      "(3584, 28)\n",
      "(28, 128, 28)\n"
     ]
    }
   ],
   "source": [
    "_X = np.transpose(batch_xs, [1, 0, 2])\n",
    "print _X.shape\n",
    "_X = np.reshape(_X, [-1, diminput])\n",
    "print _X.shape\n",
    "_X = tf.split(0, n_steps, _X)\n",
    "with tf.Session() as sess:\n",
    "    _X=sess.run(_X)\n",
    "    \n",
    "print np.array(_X).shape"
   ]
  },
  {
   "cell_type": "code",
   "execution_count": 4,
   "metadata": {
    "collapsed": false
   },
   "outputs": [
    {
     "data": {
      "image/png": "[encoded data removed]",
      "text/plain": [
       "<matplotlib.figure.Figure at 0x7fb67edd1e50>"
      ]
     },
     "metadata": {},
     "output_type": "display_data"
    },
    {
     "name": "stdout",
     "output_type": "stream",
     "text": [
      "(1, 28, 28)\n"
     ]
    }
   ],
   "source": [
    "# Load a test handwritten image \n",
    "cwd = os.getcwd()\n",
    "testImage = PIL.Image.open(\"./sompic.jpg\")\n",
    "imgArray = np.array(testImage)\n",
    "imgArray = np.asfarray(imgArray, dtype='float32')\n",
    "imgArray = imgArray - 255\n",
    "imgArray = imgArray * -1\n",
    "imgArray = imgArray/255\n",
    "#imgArray = imgArray + 0.00000000001\n",
    "plt.matshow(imgArray[:,:], cmap=plt.get_cmap('gray'))\n",
    "plt.colorbar()\n",
    "plt.show()\n",
    "imgArray = np.reshape(imgArray,[1,28,28])\n",
    "print imgArray.shape"
   ]
  },
  {
   "cell_type": "code",
   "execution_count": 5,
   "metadata": {
    "collapsed": false
   },
   "outputs": [],
   "source": [
    "\n",
    "# Parameters\n",
    "learning_rate = 0.001\n",
    "training_iters = 100000\n",
    "batch_size = 128\n",
    "display_step = 10\n",
    "\n",
    "# Network Parameters\n",
    "n_input = 28 # MNIST data input (img shape: 28*28)\n",
    "n_steps = 28 # timesteps\n",
    "n_hidden = 128 # hidden layer num of features\n",
    "n_classes = 10 # MNIST total classes (0-9 digits)\n",
    "\n",
    "# tf Graph input\n",
    "x = tf.placeholder(\"float\", [None, n_steps, n_input])\n",
    "y = tf.placeholder(\"float\", [None, n_classes])\n",
    "\n",
    "# Define weights\n",
    "weights = {\n",
    "    'out': tf.Variable(tf.random_normal([n_hidden, n_classes]))\n",
    "}\n",
    "biases = {\n",
    "    'out': tf.Variable(tf.random_normal([n_classes]))\n",
    "}"
   ]
  },
  {
   "cell_type": "code",
   "execution_count": 6,
   "metadata": {
    "collapsed": false
   },
   "outputs": [
    {
     "name": "stderr",
     "output_type": "stream",
     "text": [
      "WARNING:tensorflow:<tensorflow.python.ops.rnn_cell.BasicLSTMCell object at 0x7fb6ae496f50>: Using a concatenated state is slower and will soon be deprecated.  Use state_is_tuple=True.\n"
     ]
    }
   ],
   "source": [
    "def RNN(x, weights, biases):\n",
    "\n",
    "    # Prepare data shape to match `rnn` function requirements\n",
    "    # Current data input shape: (batch_size, n_steps, n_input)\n",
    "    # Required shape: 'n_steps' tensors list of shape (batch_size, n_input)\n",
    "    \n",
    "    # Permuting batch_size and n_steps\n",
    "    x = tf.transpose(x, [1, 0, 2])\n",
    "    # Reshaping to (n_steps*batch_size, n_input)\n",
    "    x = tf.reshape(x, [-1, n_input])\n",
    "    # Split to get a list of 'n_steps' tensors of shape (batch_size, n_input)\n",
    "    x = tf.split(0, n_steps, x)\n",
    "\n",
    "    # Define a lstm cell with tensorflow\n",
    "    lstm_cell = rnn_cell.BasicLSTMCell(n_hidden, forget_bias=1.0)\n",
    "\n",
    "    # Get lstm cell output\n",
    "    outputs, states = rnn.rnn(lstm_cell, x, dtype=tf.float32)\n",
    "\n",
    "    # Linear activation, using rnn inner loop last output\n",
    "    return tf.matmul(outputs[-1], weights['out']) + biases['out']\n",
    "\n",
    "pred = RNN(x, weights, biases)\n",
    "\n",
    "# Define loss and optimizer\n",
    "cost = tf.reduce_mean(tf.nn.softmax_cross_entropy_with_logits(pred, y))\n",
    "optimizer = tf.train.AdamOptimizer(learning_rate=learning_rate).minimize(cost)\n",
    "\n",
    "# Evaluate model\n",
    "correct_pred = tf.equal(tf.argmax(pred,1), tf.argmax(y,1))\n",
    "accuracy = tf.reduce_mean(tf.cast(correct_pred, tf.float32))\n",
    "\n",
    "# Initializing the variables\n",
    "init = tf.initialize_all_variables()"
   ]
  },
  {
   "cell_type": "code",
   "execution_count": 7,
   "metadata": {
    "collapsed": false
   },
   "outputs": [
    {
     "name": "stdout",
     "output_type": "stream",
     "text": [
      "Iter 1280, Minibatch Loss= 1.884873, Training Accuracy= 0.38281\n",
      "Iter 2560, Minibatch Loss= 1.435738, Training Accuracy= 0.53125\n",
      "Iter 3840, Minibatch Loss= 1.463890, Training Accuracy= 0.55469\n",
      "Iter 5120, Minibatch Loss= 1.167752, Training Accuracy= 0.60156\n",
      "Iter 6400, Minibatch Loss= 0.705191, Training Accuracy= 0.76562\n",
      "Iter 7680, Minibatch Loss= 0.929666, Training Accuracy= 0.71875\n",
      "Iter 8960, Minibatch Loss= 1.038900, Training Accuracy= 0.71094\n",
      "Iter 10240, Minibatch Loss= 0.521947, Training Accuracy= 0.85156\n",
      "Iter 11520, Minibatch Loss= 0.460162, Training Accuracy= 0.88281\n",
      "Iter 12800, Minibatch Loss= 0.564338, Training Accuracy= 0.78906\n",
      "Iter 14080, Minibatch Loss= 0.445497, Training Accuracy= 0.85938\n",
      "Iter 15360, Minibatch Loss= 0.253168, Training Accuracy= 0.92969\n",
      "Iter 16640, Minibatch Loss= 0.323470, Training Accuracy= 0.92188\n",
      "Iter 17920, Minibatch Loss= 0.242178, Training Accuracy= 0.92969\n",
      "Iter 19200, Minibatch Loss= 0.483390, Training Accuracy= 0.85156\n",
      "Iter 20480, Minibatch Loss= 0.343661, Training Accuracy= 0.91406\n",
      "Iter 21760, Minibatch Loss= 0.383178, Training Accuracy= 0.89062\n",
      "Iter 23040, Minibatch Loss= 0.199164, Training Accuracy= 0.93750\n",
      "Iter 24320, Minibatch Loss= 0.351262, Training Accuracy= 0.92969\n",
      "Iter 25600, Minibatch Loss= 0.243898, Training Accuracy= 0.92188\n",
      "Iter 26880, Minibatch Loss= 0.223580, Training Accuracy= 0.92969\n",
      "Iter 28160, Minibatch Loss= 0.168499, Training Accuracy= 0.95312\n",
      "Iter 29440, Minibatch Loss= 0.286385, Training Accuracy= 0.91406\n",
      "Iter 30720, Minibatch Loss= 0.156976, Training Accuracy= 0.93750\n",
      "Iter 32000, Minibatch Loss= 0.284475, Training Accuracy= 0.89062\n",
      "Iter 33280, Minibatch Loss= 0.326238, Training Accuracy= 0.89062\n",
      "Iter 34560, Minibatch Loss= 0.310002, Training Accuracy= 0.92969\n",
      "Iter 35840, Minibatch Loss= 0.130498, Training Accuracy= 0.96094\n",
      "Iter 37120, Minibatch Loss= 0.169871, Training Accuracy= 0.92969\n",
      "Iter 38400, Minibatch Loss= 0.173304, Training Accuracy= 0.93750\n",
      "Iter 39680, Minibatch Loss= 0.112283, Training Accuracy= 0.96094\n",
      "Iter 40960, Minibatch Loss= 0.288421, Training Accuracy= 0.89062\n",
      "Iter 42240, Minibatch Loss= 0.281165, Training Accuracy= 0.89844\n",
      "Iter 43520, Minibatch Loss= 0.229849, Training Accuracy= 0.94531\n",
      "Iter 44800, Minibatch Loss= 0.237786, Training Accuracy= 0.91406\n",
      "Iter 46080, Minibatch Loss= 0.278482, Training Accuracy= 0.88281\n",
      "Iter 47360, Minibatch Loss= 0.239165, Training Accuracy= 0.91406\n",
      "Iter 48640, Minibatch Loss= 0.210441, Training Accuracy= 0.90625\n",
      "Iter 49920, Minibatch Loss= 0.239453, Training Accuracy= 0.89844\n",
      "Iter 51200, Minibatch Loss= 0.206875, Training Accuracy= 0.94531\n",
      "Iter 52480, Minibatch Loss= 0.118701, Training Accuracy= 0.94531\n",
      "Iter 53760, Minibatch Loss= 0.094827, Training Accuracy= 0.96875\n",
      "Iter 55040, Minibatch Loss= 0.143281, Training Accuracy= 0.93750\n",
      "Iter 56320, Minibatch Loss= 0.098550, Training Accuracy= 0.99219\n",
      "Iter 57600, Minibatch Loss= 0.147090, Training Accuracy= 0.93750\n",
      "Iter 58880, Minibatch Loss= 0.141449, Training Accuracy= 0.96094\n",
      "Iter 60160, Minibatch Loss= 0.138067, Training Accuracy= 0.95312\n",
      "Iter 61440, Minibatch Loss= 0.128265, Training Accuracy= 0.96875\n",
      "Iter 62720, Minibatch Loss= 0.110822, Training Accuracy= 0.96875\n",
      "Iter 64000, Minibatch Loss= 0.104792, Training Accuracy= 0.97656\n",
      "Iter 65280, Minibatch Loss= 0.200122, Training Accuracy= 0.93750\n",
      "Iter 66560, Minibatch Loss= 0.100470, Training Accuracy= 0.96875\n",
      "Iter 67840, Minibatch Loss= 0.112188, Training Accuracy= 0.96875\n",
      "Iter 69120, Minibatch Loss= 0.135322, Training Accuracy= 0.96094\n",
      "Iter 70400, Minibatch Loss= 0.056957, Training Accuracy= 0.98438\n",
      "Iter 71680, Minibatch Loss= 0.054943, Training Accuracy= 0.99219\n",
      "Iter 72960, Minibatch Loss= 0.089655, Training Accuracy= 0.96094\n",
      "Iter 74240, Minibatch Loss= 0.162978, Training Accuracy= 0.96875\n",
      "Iter 75520, Minibatch Loss= 0.149820, Training Accuracy= 0.96094\n",
      "Iter 76800, Minibatch Loss= 0.130055, Training Accuracy= 0.97656\n",
      "Iter 78080, Minibatch Loss= 0.074630, Training Accuracy= 0.98438\n",
      "Iter 79360, Minibatch Loss= 0.041041, Training Accuracy= 0.98438\n",
      "Iter 80640, Minibatch Loss= 0.142750, Training Accuracy= 0.93750\n",
      "Iter 81920, Minibatch Loss= 0.115039, Training Accuracy= 0.96875\n",
      "Iter 83200, Minibatch Loss= 0.189135, Training Accuracy= 0.91406\n",
      "Iter 84480, Minibatch Loss= 0.059944, Training Accuracy= 0.98438\n",
      "Iter 85760, Minibatch Loss= 0.161615, Training Accuracy= 0.96094\n",
      "Iter 87040, Minibatch Loss= 0.117434, Training Accuracy= 0.94531\n",
      "Iter 88320, Minibatch Loss= 0.089518, Training Accuracy= 0.97656\n",
      "Iter 89600, Minibatch Loss= 0.054095, Training Accuracy= 0.99219\n",
      "Iter 90880, Minibatch Loss= 0.130888, Training Accuracy= 0.95312\n",
      "Iter 92160, Minibatch Loss= 0.204093, Training Accuracy= 0.94531\n",
      "Iter 93440, Minibatch Loss= 0.072874, Training Accuracy= 0.97656\n",
      "Iter 94720, Minibatch Loss= 0.082082, Training Accuracy= 0.97656\n",
      "Iter 96000, Minibatch Loss= 0.068012, Training Accuracy= 0.96875\n",
      "Iter 97280, Minibatch Loss= 0.068638, Training Accuracy= 0.96875\n",
      "Iter 98560, Minibatch Loss= 0.048346, Training Accuracy= 0.98438\n",
      "Iter 99840, Minibatch Loss= 0.133786, Training Accuracy= 0.96094\n",
      "Optimization Finished!\n",
      "Testing Accuracy: 0.976562\n",
      "[[-5.07717848 -0.13496464 -0.59765482 -2.19065833  4.56416845 -0.50831759\n",
      "  -3.00575733  1.13836122 -2.21294093  0.62060213]]\n"
     ]
    }
   ],
   "source": [
    "# Launch the graph\n",
    "with tf.Session() as sess:\n",
    "    sess.run(init)\n",
    "    step = 1\n",
    "    # Keep training until reach max iterations\n",
    "    while step * batch_size < training_iters:\n",
    "        batch_x, batch_y = mnist.train.next_batch(batch_size)\n",
    "        # Reshape data to get 28 seq of 28 elements\n",
    "        batch_x = batch_x.reshape((batch_size, n_steps, n_input))\n",
    "        # Run optimization op (backprop)\n",
    "        sess.run(optimizer, feed_dict={x: batch_x, y: batch_y})\n",
    "        if step % display_step == 0:\n",
    "            # Calculate batch accuracy\n",
    "            acc = sess.run(accuracy, feed_dict={x: batch_x, y: batch_y})\n",
    "            # Calculate batch loss\n",
    "            loss = sess.run(cost, feed_dict={x: batch_x, y: batch_y})\n",
    "            print \"Iter \" + str(step*batch_size) + \", Minibatch Loss= \" + \\\n",
    "                  \"{:.6f}\".format(loss) + \", Training Accuracy= \" + \\\n",
    "                  \"{:.5f}\".format(acc)\n",
    "        step += 1\n",
    "    print \"Optimization Finished!\"\n",
    "\n",
    "    # Calculate accuracy for 128 mnist test images\n",
    "    test_len = 128\n",
    "    test_data = mnist.test.images[:test_len].reshape((-1, n_steps, n_input))\n",
    "    test_label = mnist.test.labels[:test_len]\n",
    "    print \"Testing Accuracy:\", \\\n",
    "        sess.run(accuracy, feed_dict={x: test_data, y: test_label})\n",
    "    print sess.run(pred,feed_dict={x:imgArray})"
   ]
  },
  {
   "cell_type": "code",
   "execution_count": null,
   "metadata": {
    "collapsed": false
   },
   "outputs": [],
   "source": [
    "As we can see it predicts 4 "
   ]
  },
  {
   "cell_type": "code",
   "execution_count": null,
   "metadata": {
    "collapsed": true
   },
   "outputs": [],
   "source": []
  }
 ],
 "metadata": {
  "kernelspec": {
   "display_name": "Python 2",
   "language": "python",
   "name": "python2"
  },
  "language_info": {
   "codemirror_mode": {
    "name": "ipython",
    "version": 2
   },
   "file_extension": ".py",
   "mimetype": "text/x-python",
   "name": "python",
   "nbconvert_exporter": "python",
   "pygments_lexer": "ipython2",
   "version": "2.7.12"
  }
 },
 "nbformat": 4,
 "nbformat_minor": 1
}
