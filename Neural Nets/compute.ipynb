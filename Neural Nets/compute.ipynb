{
 "cells": [
  {
   "cell_type": "markdown",
   "metadata": {
    "collapsed": true
   },
   "source": [
    "Neural Nets can compute any function. Lets try to make a neural net fit a simple sign wave \n",
    "\n"
   ]
  },
  {
   "cell_type": "code",
   "execution_count": 1,
   "metadata": {
    "collapsed": false
   },
   "outputs": [],
   "source": [
    "import numpy as np\n",
    "import tensorflow as tf\n",
    "from IPython import display\n",
    "import sys\n",
    "%matplotlib inline"
   ]
  },
  {
   "cell_type": "code",
   "execution_count": 2,
   "metadata": {
    "collapsed": false
   },
   "outputs": [],
   "source": [
    "x_train = np.asarray(np.arange(-1, 1, 0.05), dtype='f')"
   ]
  },
  {
   "cell_type": "code",
   "execution_count": 3,
   "metadata": {
    "collapsed": false
   },
   "outputs": [
    {
     "name": "stdout",
     "output_type": "stream",
     "text": [
      "(1, 40)\n"
     ]
    }
   ],
   "source": [
    "print  np.matrix(x_train).shape"
   ]
  },
  {
   "cell_type": "code",
   "execution_count": 4,
   "metadata": {
    "collapsed": false
   },
   "outputs": [],
   "source": [
    "y_train = np.sin(x_train*1.5 * np.pi)"
   ]
  },
  {
   "cell_type": "code",
   "execution_count": 5,
   "metadata": {
    "collapsed": false
   },
   "outputs": [
    {
     "data": {
      "image/png": "[encoded data removed]",
      "text/plain": [
       "<matplotlib.figure.Figure at 0x7f50394d0f50>"
      ]
     },
     "metadata": {},
     "output_type": "display_data"
    }
   ],
   "source": [
    "import matplotlib.pylab as plt\n",
    "plt.plot(x_train, y_train,'o')\n",
    "plt.xlabel('Angle [rad]')\n",
    "plt.ylabel('sin(x)')\n",
    "plt.axis('tight')\n",
    "plt.show()"
   ]
  },
  {
   "cell_type": "code",
   "execution_count": 6,
   "metadata": {
    "collapsed": true
   },
   "outputs": [],
   "source": [
    "#Hyperparamters\n",
    "learning_rate = 0.0005\n",
    "training_epochs = 25000\n",
    "batch_size = 100\n",
    "display_step = 1000\n",
    "n_samples = 1000\n",
    "\n",
    "# Network Parameters\n",
    "n_hidden_1 = 15 # 1st layer number of features\n",
    "n_hidden_2 = 15 # 2nd layer number of features\n",
    "n_input = 1 # Number of inputs \n",
    "n_output = 1 # NUmber of outputs\n",
    "\n",
    "# tf Graph input\n",
    "X = tf.placeholder(tf.float32, [None, 1])\n",
    "Y = tf.placeholder(tf.float32,  [None, 1])\n"
   ]
  },
  {
   "cell_type": "code",
   "execution_count": 7,
   "metadata": {
    "collapsed": true
   },
   "outputs": [],
   "source": [
    "def layer(input, weight_shape, bias_shape):\n",
    "    weights = tf.get_variable(\"weights\", weight_shape,\n",
    "        initializer=tf.random_normal_initializer())\n",
    "    biases = tf.get_variable(\"biases\", bias_shape,\n",
    "        initializer=tf.constant_initializer(0.0))\n",
    "    pre_Activation = tf.add(tf.matmul(input,weights), biases)\n",
    "    return tf.nn.relu(pre_Activation)\n",
    "\n",
    "def outputLayer(input, weight_shape, bias_shape):\n",
    "    weights = tf.get_variable(\"weights\", weight_shape,\n",
    "        initializer=tf.random_normal_initializer())\n",
    "    biases = tf.get_variable(\"biases\", bias_shape,\n",
    "        initializer=tf.constant_initializer(0.0)) \n",
    "    return tf.add(tf.matmul(input,weights), biases)\n",
    "\n",
    "def feed_forward(x, scope):\n",
    "    with tf.variable_scope(\"layer1\",reuse=scope):\n",
    "        relu1 = layer(x, [n_input, n_hidden_1], [n_hidden_1])\n",
    "    with tf.variable_scope(\"layer2\",reuse=scope):\n",
    "        relu2 = layer(relu1, [n_hidden_1, n_hidden_2], [n_hidden_2])\n",
    "    with tf.variable_scope(\"layer3\",reuse=scope):\n",
    "        return outputLayer(relu2, [n_hidden_2, n_output], [n_output])"
   ]
  },
  {
   "cell_type": "code",
   "execution_count": 8,
   "metadata": {
    "collapsed": false
   },
   "outputs": [],
   "source": [
    "# Construct model\n",
    "pred = feed_forward(X, None)\n",
    "\n",
    "# Define loss and optimizer\n",
    "cost = tf.reduce_mean(tf.pow(pred-Y, 2))\n",
    "optimizer = tf.train.AdamOptimizer(learning_rate=learning_rate).minimize(cost)\n",
    "\n",
    "# Initializing the variables\n",
    "init = tf.initialize_all_variables()"
   ]
  },
  {
   "cell_type": "code",
   "execution_count": 9,
   "metadata": {
    "collapsed": false
   },
   "outputs": [
    {
     "name": "stdout",
     "output_type": "stream",
     "text": [
      "Epoch: 1000 cost= 0.055786118\n",
      "Epoch: 2000 cost= 0.000634033\n",
      "Epoch: 3000 cost= 0.000270692\n",
      "Epoch: 4000 cost= 0.000163462\n",
      "Epoch: 5000 cost= 0.000105480\n",
      "Epoch: 6000 cost= 0.000078156\n",
      "Epoch: 7000 cost= 0.000065194\n",
      "Epoch: 8000 cost= 0.000059583\n",
      "Epoch: 9000 cost= 0.000055716\n",
      "Epoch: 10000 cost= 0.000052253\n",
      "Epoch: 11000 cost= 0.000047984\n",
      "Epoch: 12000 cost= 0.000043325\n",
      "Epoch: 13000 cost= 0.000038817\n",
      "Epoch: 14000 cost= 0.000036766\n",
      "Epoch: 15000 cost= 0.000018059\n",
      "Epoch: 16000 cost= 0.000017517\n",
      "Epoch: 17000 cost= 0.000016404\n",
      "Epoch: 18000 cost= 0.000016750\n",
      "Epoch: 19000 cost= 0.000016283\n",
      "Epoch: 20000 cost= 0.000022633\n",
      "Epoch: 21000 cost= 0.000016208\n",
      "Epoch: 22000 cost= 0.000016034\n",
      "Epoch: 23000 cost= 0.000016179\n",
      "Epoch: 24000 cost= 0.000015843\n",
      "Epoch: 25000 cost= 0.000015802\n",
      "Optimization Finished!\n"
     ]
    }
   ],
   "source": [
    "with tf.Session() as sess:\n",
    "    sess.run(init)\n",
    "\n",
    "    # Training cycle\n",
    "    for epoch in range(training_epochs):\n",
    "        sess.run(optimizer, feed_dict={X: np.matrix(x_train).transpose() , Y: np.matrix(y_train).transpose() })   \n",
    "        #Display logs per epoch step\n",
    "        if (epoch+1) % display_step == 0:\n",
    "            x_temp = np.matrix(x_train).transpose()\n",
    "            y_temp = np.matrix(y_train).transpose()\n",
    "            c = sess.run(cost, feed_dict={X: np.matrix(x_train).transpose() , Y: np.matrix(y_train).transpose() })\n",
    "            print \"Epoch:\", '%04d' % (epoch+1), \"cost=\", \"{:.9f}\".format(c)\n",
    "\n",
    "    print \"Optimization Finished!\"\n",
    "\n",
    "    x_test = np.matrix(np.asarray(np.arange(-1, 1, 0.003), dtype='f')).transpose()\n",
    "    f_out = feed_forward(np.matrix(x_test), True)\n",
    "    f_out = sess.run(f_out)\n",
    "    f_out = np.squeeze(np.asarray(f_out))\n",
    "    #print fopt"
   ]
  },
  {
   "cell_type": "code",
   "execution_count": 10,
   "metadata": {
    "collapsed": false
   },
   "outputs": [
    {
     "data": {
      "image/png": "[encoded data removed]",
      "text/plain": [
       "<matplotlib.figure.Figure at 0x7f503680d0d0>"
      ]
     },
     "metadata": {},
     "output_type": "display_data"
    }
   ],
   "source": [
    "y_real = np.sin(x_test*1.5 * np.pi)\n",
    "plt.plot(x_test, y_real, 'b')\n",
    "plt.plot(x_test, f_out, 'r')\n",
    "plt.xlabel('Angle')\n",
    "plt.ylabel('sin(x)')\n",
    "plt.axis('tight')\n",
    "plt.show()"
   ]
  },
  {
   "cell_type": "code",
   "execution_count": 11,
   "metadata": {
    "collapsed": true
   },
   "outputs": [],
   "source": [
    "sess.close()\n"
   ]
  },
  {
   "cell_type": "code",
   "execution_count": null,
   "metadata": {
    "collapsed": true
   },
   "outputs": [],
   "source": []
  }
 ],
 "metadata": {
  "anaconda-cloud": {},
  "kernelspec": {
   "display_name": "Python [default]",
   "language": "python",
   "name": "python2"
  },
  "language_info": {
   "codemirror_mode": {
    "name": "ipython",
    "version": 2
   },
   "file_extension": ".py",
   "mimetype": "text/x-python",
   "name": "python",
   "nbconvert_exporter": "python",
   "pygments_lexer": "ipython2",
   "version": "2.7.12"
  }
 },
 "nbformat": 4,
 "nbformat_minor": 0
}
