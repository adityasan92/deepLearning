{
 "cells": [
  {
   "cell_type": "markdown",
   "metadata": {
    "collapsed": true
   },
   "source": [
    "\n",
    "\n"
   ]
  },
  {
   "cell_type": "code",
   "execution_count": 1,
   "metadata": {
    "collapsed": true
   },
   "outputs": [],
   "source": [
    "import numpy as np\n",
    "import tensorflow as tf\n",
    "from IPython import display\n",
    "import sys\n",
    "%matplotlib inline"
   ]
  },
  {
   "cell_type": "code",
   "execution_count": 2,
   "metadata": {
    "collapsed": false
   },
   "outputs": [],
   "source": [
    "x_train = np.asarray(np.arange(0, 200, 0.2), dtype='f')"
   ]
  },
  {
   "cell_type": "code",
   "execution_count": 3,
   "metadata": {
    "collapsed": false
   },
   "outputs": [],
   "source": [
    "#print np.matrix(x_train).T, np.matrix(x_train).T.shape\n",
    "#print x_train[0:3], np.matrix(x_train[0:3]).T, np.matrix(x_train[0:3]).T.shape"
   ]
  },
  {
   "cell_type": "code",
   "execution_count": 4,
   "metadata": {
    "collapsed": false
   },
   "outputs": [],
   "source": [
    "y_train = np.sin(x_train*np.pi/180)"
   ]
  },
  {
   "cell_type": "code",
   "execution_count": 5,
   "metadata": {
    "collapsed": false
   },
   "outputs": [
    {
     "data": {
      "image/png": "[encoded data removed]",
      "text/plain": [
       "<matplotlib.figure.Figure at 0x7f0e541f0c50>"
      ]
     },
     "metadata": {},
     "output_type": "display_data"
    }
   ],
   "source": [
    "import matplotlib.pylab as plt\n",
    "plt.plot(x_train, y_train)\n",
    "plt.xlabel('Angle [rad]')\n",
    "plt.ylabel('sin(x)')\n",
    "plt.axis('tight')\n",
    "plt.show()"
   ]
  },
  {
   "cell_type": "code",
   "execution_count": 6,
   "metadata": {
    "collapsed": true
   },
   "outputs": [],
   "source": [
    "#Hyperparamters\n",
    "learning_rate = 0.001\n",
    "training_epochs = 10000\n",
    "batch_size = 100\n",
    "display_step = 1000\n",
    "n_samples = 1000\n",
    "\n",
    "# Network Parameters\n",
    "n_hidden_1 = 1000 # 1st layer number of features\n",
    "n_hidden_2 = 1000 # 2nd layer number of features\n",
    "n_input = 1 # Number of inputs \n",
    "n_output = 1 # NUmber of outputs\n",
    "\n",
    "# tf Graph input\n",
    "X = tf.placeholder(tf.float32, [None, 1])\n",
    "Y = tf.placeholder(tf.float32,  [None, 1])\n"
   ]
  },
  {
   "cell_type": "code",
   "execution_count": 7,
   "metadata": {
    "collapsed": true
   },
   "outputs": [],
   "source": [
    "# Create model\n",
    "def feed_forward(x, weights, biases):\n",
    "    # Hidden layer with RELU activation\n",
    "    layer_1 = tf.add(tf.matmul(x, weights['h1']), biases['b1'])\n",
    "    layer_1 = tf.nn.relu(layer_1)\n",
    "    # Hidden layer with RELU activation\n",
    "    layer_2 = tf.add(tf.matmul(layer_1, weights['h2']), biases['b2'])\n",
    "    layer_2 = tf.nn.relu(layer_2)\n",
    "    # Output layer with linear activation\n",
    "    out_layer = tf.matmul(layer_2, weights['out']) + biases['out']\n",
    "    return out_layer"
   ]
  },
  {
   "cell_type": "code",
   "execution_count": 8,
   "metadata": {
    "collapsed": false
   },
   "outputs": [],
   "source": [
    "\n",
    "# Store layers weight & biasn_output\n",
    "weights = {\n",
    "    'h1': tf.Variable(tf.random_normal([n_input, n_hidden_1])),\n",
    "    'h2': tf.Variable(tf.random_normal([n_hidden_1, n_hidden_2])),\n",
    "    'out': tf.Variable(tf.random_normal([n_hidden_2, n_output]))\n",
    "}\n",
    "biases = {\n",
    "    'b1': tf.Variable(tf.random_normal([n_hidden_1])),\n",
    "    'b2': tf.Variable(tf.random_normal([n_hidden_2])),\n",
    "    'out': tf.Variable(tf.random_normal([n_output]))\n",
    "}\n",
    "\n",
    "# Construct model\n",
    "pred = feed_forward(X, weights, biases)\n",
    "\n",
    "# Define loss and optimizer\n",
    "cost = tf.reduce_mean(tf.pow(pred-Y, 2))\n",
    "optimizer = tf.train.AdamOptimizer(learning_rate=learning_rate).minimize(cost)\n",
    "\n",
    "# Initializing the variables10\n",
    "init = tf.initialize_all_variables()"
   ]
  },
  {
   "cell_type": "code",
   "execution_count": null,
   "metadata": {
    "collapsed": false
   },
   "outputs": [
    {
     "name": "stdout",
     "output_type": "stream",
     "text": [
      "Epoch: 1000 cost= 8.367185593\n",
      "Epoch: 2000 cost= 2.152515650\n",
      "Epoch: 3000 cost= 1.589138627\n",
      "Epoch: 4000 cost= 0.178959295\n",
      "Epoch: 5000 cost= 0.118342288\n",
      "Epoch: 6000 cost= 0.085659944\n",
      "Epoch: 7000 cost= 6.725887775\n",
      "Epoch: 8000 cost= 2.463663101\n",
      "Epoch: 9000 cost= 1.571585417\n"
     ]
    }
   ],
   "source": [
    "# Launch the graph\n",
    "with tf.Session() as sess:\n",
    "    sess.run(init)\n",
    "\n",
    "    # Training cycle\n",
    "    for epoch in range(training_epochs):\n",
    "        #i = 0\n",
    "        #while i < 4:\n",
    "            #x = x_train[50*i:50*(i+1)]\n",
    "            #x = np.matrix(x_train[250*i:50*(i+1)]).T\n",
    "            #y = np.matrix(y_train[50*i:50*(i+1)]).T\n",
    "            #sess.run(optimizer, feed_dict={X: x , Y: y })\n",
    "            #i = i + 1\n",
    "        #for (x, y) in zip(x_train, y_train):\n",
    "            #x = np.matrix(x)\n",
    "            #y = np.matrix(y)\n",
    "            #sess.run(optimizer, feed_dict={X: x , Y: y })\n",
    "        sess.run(optimizer, feed_dict={X: np.matrix(x_train).transpose() , Y: np.matrix(y_train).transpose() })   \n",
    "        #Display logs per epoch step\n",
    "        if (epoch+1) % display_step == 0:\n",
    "            x_temp = np.matrix(x_train).transpose()\n",
    "            y_temp = np.matrix(y_train).transpose()\n",
    "            c = sess.run(cost, feed_dict={X: np.matrix(x_train).transpose() , Y: np.matrix(y_train).transpose() })\n",
    "            print \"Epoch:\", '%04d' % (epoch+1), \"cost=\", \"{:.9f}\".format(c)\n",
    "\n",
    "    print \"Optimization Finished!\"\n",
    "    #training_cost = sess.run(cost, feed_dict={X: x_train , Y: y_train })\n",
    "    #print \"Training cost=\", training_cost\n",
    "    x_temp = np.matrix(x_train).transpose()\n",
    "    # Final W and b\n",
    "    Wopt = sess.run(weights)\n",
    "    bopt = sess.run(biases)\n",
    "    fopt = feed_forward(np.matrix(x_temp),Wopt,bopt)\n",
    "    fopt = sess.run(fopt)\n",
    "    #print fopt"
   ]
  },
  {
   "cell_type": "code",
   "execution_count": 240,
   "metadata": {
    "collapsed": false
   },
   "outputs": [],
   "source": [
    "fopt = np.squeeze(np.asarray(fopt))\n"
   ]
  },
  {
   "cell_type": "code",
   "execution_count": 241,
   "metadata": {
    "collapsed": false
   },
   "outputs": [
    {
     "data": {
      "image/png": "[encoded data removed]",
      "text/plain": [
       "<matplotlib.figure.Figure at 0x7f35ebfe2ad0>"
      ]
     },
     "metadata": {},
     "output_type": "display_data"
    }
   ],
   "source": [
    "plt.plot(x_train, fopt)\n",
    "plt.xlabel('Angle [rad]')\n",
    "plt.ylabel('sin(x)')\n",
    "plt.axis('tight')\n",
    "plt.show()"
   ]
  },
  {
   "cell_type": "code",
   "execution_count": null,
   "metadata": {
    "collapsed": true
   },
   "outputs": [],
   "source": []
  }
 ],
 "metadata": {
  "kernelspec": {
   "display_name": "Python 2",
   "language": "python",
   "name": "python2"
  },
  "language_info": {
   "codemirror_mode": {
    "name": "ipython",
    "version": 2
   },
   "file_extension": ".py",
   "mimetype": "text/x-python",
   "name": "python",
   "nbconvert_exporter": "python",
   "pygments_lexer": "ipython2",
   "version": "2.7.12"
  }
 },
 "nbformat": 4,
 "nbformat_minor": 0
}
