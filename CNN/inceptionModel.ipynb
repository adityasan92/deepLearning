{
 "cells": [
  {
   "cell_type": "markdown",
   "metadata": {},
   "source": [
    "Using Google's inceptionV3 model "
   ]
  },
  {
   "cell_type": "code",
   "execution_count": 17,
   "metadata": {
    "collapsed": false
   },
   "outputs": [
    {
     "name": "stdout",
     "output_type": "stream",
     "text": [
      "Package Loaded\n"
     ]
    }
   ],
   "source": [
    "import os.path\n",
    "import re\n",
    "import sys\n",
    "import tarfile\n",
    "\n",
    "import numpy as np\n",
    "from six.moves import urllib\n",
    "import tensorflow as tf\n",
    "print \"Package Loaded\""
   ]
  },
  {
   "cell_type": "code",
   "execution_count": 18,
   "metadata": {
    "collapsed": true
   },
   "outputs": [],
   "source": [
    "model = {\n",
    "    'model_dir':'/tmp/imagenet',\n",
    "    'num_top_predictions': 5\n",
    "}"
   ]
  },
  {
   "cell_type": "code",
   "execution_count": 19,
   "metadata": {
    "collapsed": true
   },
   "outputs": [],
   "source": [
    "def create_graph():    \n",
    "    #Creates graph from saved graph_def.pb.\n",
    "    with tf.gfile.FastGFile(os.path.join(\n",
    "    model['model_dir'], 'classify_image_graph_def.pb'), 'rb') as f:\n",
    "        graph_def = tf.GraphDef()\n",
    "        graph_def.ParseFromString(f.read())\n",
    "        _ = tf.import_graph_def(graph_def, name='')"
   ]
  },
  {
   "cell_type": "code",
   "execution_count": 20,
   "metadata": {
    "collapsed": true
   },
   "outputs": [],
   "source": [
    "image_path = \"images/cat.jpg\""
   ]
  },
  {
   "cell_type": "code",
   "execution_count": 21,
   "metadata": {
    "collapsed": false
   },
   "outputs": [],
   "source": [
    "if not tf.gfile.Exists(image_path):\n",
    "    tf.logging.fatal('File does not exist %s', image_path)\n",
    "image_data = tf.gfile.FastGFile(image_path, 'rb').read()"
   ]
  },
  {
   "cell_type": "code",
   "execution_count": 29,
   "metadata": {
    "collapsed": false
   },
   "outputs": [],
   "source": [
    "def run_inference_on_image(image):\n",
    "    \n",
    "    if not tf.gfile.Exists(image):\n",
    "        tf.logging.fatal('File does not exist %s', image)\n",
    "    image_data = tf.gfile.FastGFile(image, 'rb').read()\n",
    "\n",
    "    # Creates graph from saved GraphDef.\n",
    "    create_graph()\n",
    "\n",
    "    with tf.Session() as sess:\n",
    "        # Some useful tensors:\n",
    "        # 'softmax:0': A tensor containing the normalized prediction across\n",
    "        #   1000 labels.\n",
    "        # 'pool_3:0': A tensor containing the next-to-last layer containing 2048\n",
    "        #   float description of the image.\n",
    "        # 'DecodeJpeg/contents:0': A tensor containing a string providing JPEG\n",
    "        #   encoding of the image.\n",
    "        # Runs the softmax tensor by feeding the image_data as input to the graph.\n",
    "        softmax_tensor = sess.graph.get_tensor_by_name('softmax:0')\n",
    "        predictions = sess.run(softmax_tensor,\n",
    "                               {'DecodeJpeg/contents:0': image_data})\n",
    "        predictions = np.squeeze(predictions)\n",
    "\n",
    "        # Creates node ID --> English string lookup.\n",
    "        node_lookup = NodeLookup()\n",
    "\n",
    "        top_k = predictions.argsort()[-model['num_top_predictions']:][::-1]\n",
    "        for node_id in top_k:\n",
    "            human_string = node_lookup.id_to_string(node_id)\n",
    "            score = predictions[node_id]\n",
    "            print('%s (score = %.5f)' % (human_string, score))"
   ]
  },
  {
   "cell_type": "code",
   "execution_count": 30,
   "metadata": {
    "collapsed": false
   },
   "outputs": [],
   "source": [
    "\n",
    "class NodeLookup(object):\n",
    "    \"\"\"Converts integer node ID's to human readable labels.\"\"\"\n",
    "\n",
    "    def __init__(self,\n",
    "               label_lookup_path=None,\n",
    "               uid_lookup_path=None):\n",
    "        if not label_lookup_path:\n",
    "            label_lookup_path = os.path.join(\n",
    "              model['model_dir'], 'imagenet_2012_challenge_label_map_proto.pbtxt')\n",
    "        if not uid_lookup_path:\n",
    "            uid_lookup_path = os.path.join(\n",
    "              model['model_dir'], 'imagenet_synset_to_human_label_map.txt')\n",
    "        self.node_lookup = self.load(label_lookup_path, uid_lookup_path)\n",
    "\n",
    "    def load(self, label_lookup_path, uid_lookup_path):\n",
    "        \"\"\"Loads a human readable English name for each softmax node.\n",
    "\n",
    "        Args:\n",
    "          label_lookup_path: string UID to integer node ID.\n",
    "          uid_lookup_path: string UID to human-readable string.\n",
    "\n",
    "        Returns:\n",
    "          dict from integer node ID to human-readable string.\n",
    "        \"\"\"\n",
    "        if not tf.gfile.Exists(uid_lookup_path):\n",
    "            tf.logging.fatal('File does not exist %s', uid_lookup_path)\n",
    "        if not tf.gfile.Exists(label_lookup_path):\n",
    "            tf.logging.fatal('File does not exist %s', label_lookup_path)\n",
    "\n",
    "        # Loads mapping from string UID to human-readable string\n",
    "        proto_as_ascii_lines = tf.gfile.GFile(uid_lookup_path).readlines()\n",
    "        uid_to_human = {}\n",
    "        p = re.compile(r'[n\\d]*[ \\S,]*')\n",
    "        for line in proto_as_ascii_lines:\n",
    "            parsed_items = p.findall(line)\n",
    "            uid = parsed_items[0]\n",
    "            human_string = parsed_items[2]\n",
    "            uid_to_human[uid] = human_string\n",
    "\n",
    "        # Loads mapping from string UID to integer node ID.\n",
    "        node_id_to_uid = {}\n",
    "        proto_as_ascii = tf.gfile.GFile(label_lookup_path).readlines()\n",
    "        for line in proto_as_ascii:\n",
    "            if line.startswith('  target_class:'):\n",
    "                target_class = int(line.split(': ')[1])\n",
    "            if line.startswith('  target_class_string:'):\n",
    "                target_class_string = line.split(': ')[1]\n",
    "                node_id_to_uid[target_class] = target_class_string[1:-2]\n",
    "\n",
    "        # Loads the final mapping of integer node ID to human-readable string\n",
    "        node_id_to_name = {}\n",
    "        for key, val in node_id_to_uid.items():\n",
    "            if val not in uid_to_human:\n",
    "                tf.logging.fatal('Failed to locate: %s', val)\n",
    "            name = uid_to_human[val]\n",
    "            node_id_to_name[key] = name\n",
    "\n",
    "        return node_id_to_name\n",
    "\n",
    "    def id_to_string(self, node_id):\n",
    "        if node_id not in self.node_lookup:\n",
    "            return ''\n",
    "        return self.node_lookup[node_id]\n",
    "\n"
   ]
  },
  {
   "cell_type": "code",
   "execution_count": 31,
   "metadata": {
    "collapsed": false
   },
   "outputs": [
    {
     "name": "stdout",
     "output_type": "stream",
     "text": [
      "tiger, Panthera tigris (score = 0.82272)\n",
      "tiger cat (score = 0.13359)\n",
      "jaguar, panther, Panthera onca, Felis onca (score = 0.00062)\n",
      "leopard, Panthera pardus (score = 0.00055)\n",
      "lynx, catamount (score = 0.00036)\n"
     ]
    }
   ],
   "source": [
    "run_inference_on_image(image_path)"
   ]
  },
  {
   "cell_type": "code",
   "execution_count": null,
   "metadata": {
    "collapsed": true
   },
   "outputs": [],
   "source": []
  }
 ],
 "metadata": {
  "kernelspec": {
   "display_name": "Python 2",
   "language": "python",
   "name": "python2"
  },
  "language_info": {
   "codemirror_mode": {
    "name": "ipython",
    "version": 2
   },
   "file_extension": ".py",
   "mimetype": "text/x-python",
   "name": "python",
   "nbconvert_exporter": "python",
   "pygments_lexer": "ipython2",
   "version": "2.7.12"
  }
 },
 "nbformat": 4,
 "nbformat_minor": 1
}
